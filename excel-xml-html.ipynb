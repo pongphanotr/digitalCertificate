{
 "cells": [
  {
   "cell_type": "code",
   "execution_count": 13,
   "metadata": {},
   "outputs": [],
   "source": [
    "#1 Load Excel data into a pandas DataFrame\n",
    "import pandas as pd\n",
    "import os.path\n",
    "\n",
    "filename = \"FM-0403v8.xlsm\"\n",
    "if not os.path.isfile('FM-0403v8.xlsm'):\n",
    "    raise ValueError('No')\n",
    "\n",
    "data = pd.read_excel(filename, sheet_name='administrativeData')\n",
    "measure = pd.read_excel(filename, sheet_name='measurement')\n",
    "result = pd.read_excel(filename, sheet_name='result-template')"
   ]
  },
  {
   "cell_type": "code",
   "execution_count": 14,
   "metadata": {},
   "outputs": [
    {
     "name": "stdout",
     "output_type": "stream",
     "text": [
      "9\n",
      "['RadQ', 'ReferenceValue', 'RangeCalibration', 'UUCMean', 'UUCadjust', 'unit', 'Uncertainty', 'CalibrationFactor', 'unitU']\n",
      "{'RadQ': ['Cs-137 Cs-137 Cs-137'], 'ReferenceValue': ['1.55 36.0 148.0'], 'RangeCalibration': ['1 10 100'], 'UUCMean': ['1.22 13.4 134.0'], 'UUCadjust': ['1.22 13.4 134.0'], 'unit': ['mSv/h mR/h mR/h'], 'Uncertainty': ['12 8 7'], 'CalibrationFactor': ['1.27 2.69 1.1'], 'unitU': ['&#37; &#37; &#37;']}\n"
     ]
    }
   ],
   "source": [
    "#2 Convert result to dict\n",
    "result_dict = {}\n",
    "\n",
    "print(len(result.columns.tolist()))\n",
    "print(result.columns.tolist())\n",
    "\n",
    "#for i in range(len(result.columns.tolist())):\n",
    "\n",
    "for i in range(len(result.columns.tolist())):\n",
    "    #if i==3: #i mod 2 = 0 that mean it is an even number\n",
    "        unit = result.values.tolist()[0][i] #row ที่ 0 และ column ที่ i+1 = เลขคี่\n",
    "        result_dict[result.columns.tolist()[i]] = [\" \".join([str(a[i]) for a in result.values.tolist()])] #list compehension สร้าง list ขึ้นมาจาก for loop โดยที่ for loop อยู่ใน list นั้น\n",
    "print(result_dict)"
   ]
  },
  {
   "cell_type": "code",
   "execution_count": 15,
   "metadata": {},
   "outputs": [
    {
     "name": "stdout",
     "output_type": "stream",
     "text": [
      "dict_items([('RadQ', ['Cs-137 Cs-137 Cs-137']), ('ReferenceValue', ['1.55 36.0 148.0']), ('RangeCalibration', ['1 10 100']), ('UUCMean', ['1.22 13.4 134.0']), ('UUCadjust', ['1.22 13.4 134.0']), ('unit', ['mSv/h mR/h mR/h']), ('Uncertainty', ['12 8 7']), ('CalibrationFactor', ['1.27 2.69 1.1']), ('unitU', ['&#37; &#37; &#37;'])])\n"
     ]
    }
   ],
   "source": [
    "#3 Create XML file\n",
    "import xml.etree.ElementTree as ET\n",
    "import datetime\n",
    "\n",
    "# Define XML namespace\n",
    "nsdcc = {'dcc': 'administrativeData'}\n",
    "nssi = {'si': 'measurementResults'}\n",
    "\n",
    "# Create the root element of the XML tree\n",
    "root = ET.Element('{'+nsdcc['dcc']+'}digitalcalibrationCertificate')\n",
    "row_element = ET.SubElement(root, '{'+nsdcc['dcc']+'}administrativeData')\n",
    "row_element_measurement = ET.SubElement(root, '{'+nsdcc['dcc']+'}measurementResults')\n",
    "\n",
    "# Loop through the dictionary and create XML elements\n",
    "for row in data.values:\n",
    "    col_element = ET.SubElement(row_element, '{'+nsdcc['dcc']+'}'+row[0])\n",
    "    col_element.text = row[1]\n",
    "    # If the value is an integer, convert it to a string before serializing it\n",
    "    if isinstance(row[1], (datetime.date,datetime.time)):\n",
    "        #print(row[1])\n",
    "        date_ = datetime.datetime.strftime(row[1],\"%d %B %Y\")\n",
    "        #print(date_)\n",
    "        col_element.text = date_\n",
    "\n",
    "    if isinstance(row[1],int):\n",
    "        textint = str(row[1])\n",
    "        col_element.text = textint   \n",
    "\n",
    "for row in measure.values:\n",
    "    col_element = ET.SubElement(row_element_measurement, '{'+nsdcc['dcc']+'}'+row[0])\n",
    "    col_element.text = row[1]\n",
    "\n",
    "print(result_dict.items())\n",
    "\n",
    "for key, value in result_dict.items():\n",
    "\n",
    "    row_result = ET.SubElement(row_element_measurement, '{'+nssi['si']+'}results')\n",
    "\n",
    "    # Create a name element for the result\n",
    "    name_element = ET.SubElement(row_result, '{'+nssi['si']+'}'+ 'name')\n",
    "    name_element.text = key\n",
    "\n",
    "    # Create a value element for the result\n",
    "    value_element = ET.SubElement(row_result, '{'+nssi['si']+'}'+ 'value')\n",
    "\n",
    "    # If the value is a list, iterate over it and add each value to the XML tree\n",
    "    if isinstance(value, list):\n",
    "        for value_item in value:\n",
    "            value_element.text = value_item\n",
    "    else:\n",
    "        value_element.text = str(value)\n",
    "\n",
    "    # Create a unit element for the result\n",
    "    #unit_element = ET.SubElement(row_result, '{'+nssi['si']+'}'+ 'unit')\n",
    "    #unit_element.text = str(value)\n",
    "\n",
    "# Create an ElementTree object with the root element\n",
    "tree = ET.ElementTree(root)\n",
    "\n",
    "# Set namespace for the root element//registers a namespace prefix\n",
    "ET.register_namespace('dcc', nsdcc['dcc'])\n",
    "#ET.register_namespace('si', nssi['si'])\n",
    "\n",
    "# Write the XML tree to a file\n",
    "tree.write('SSDL_OAP_schema.xml', encoding='utf-8', xml_declaration=True)"
   ]
  },
  {
   "cell_type": "code",
   "execution_count": 16,
   "metadata": {},
   "outputs": [
    {
     "name": "stdout",
     "output_type": "stream",
     "text": [
      "9\n",
      "<Element '{administrativeData}statementP6' at 0x0000016F7261AC50>\n",
      "Cs-137 Cs-137 Cs-137\n",
      "1.55 36.0 148.0\n",
      "1 10 100\n",
      "1.22 13.4 134.0\n",
      "1.22 13.4 134.0\n",
      "mSv/h mR/h mR/h\n",
      "12 8 7\n",
      "1.27 2.69 1.1\n",
      "&#37; &#37; &#37;\n"
     ]
    }
   ],
   "source": [
    "#4 Modify XML file\n",
    "\n",
    "#Parse the XML file\n",
    "tree = ET.parse('SSDL_OAP_schema.xml')\n",
    "\n",
    "#Find the root element\n",
    "root = tree.getroot()\n",
    "\n",
    "#Count the number of <Element {https://ptb.de/si}results>\n",
    "namespace_si = '{measurementResults}'\n",
    "count_results = 0\n",
    "for element in row_element_measurement:\n",
    "    # Check if the element's tag matches the desired tag\n",
    "    if element.tag == f\"{namespace_si}results\":\n",
    "        count_results += 1\n",
    "print(count_results)\n",
    "print(col_element)\n",
    "\n",
    "#Modify results\n",
    "for i in range(1,count_results+1):\n",
    "    # Find the <si:hybrid> element and extract its value\n",
    "    xpath = \".//{administrativeData}measurementResults/{measurementResults}results[\"+ str(i)+\"]/{measurementResults}value\"\n",
    "    hybrid_element = root.find(xpath, namespaces=nssi)\n",
    "   \n",
    "    # Check if the element exists\n",
    "    if hybrid_element is not None:\n",
    "        hybrid_value = hybrid_element.text\n",
    "        # Print the value\n",
    "        print(hybrid_value)\n",
    "    else:\n",
    "        print(\"Element <si:value> not found in the XML file.\")\n",
    "\n",
    "    # Array_to_list\n",
    "    data = str(hybrid_value)\n",
    "\n",
    "    # Assuming you have an array of items\n",
    "    item_array = data.split(' ')\n",
    "\n",
    "    path = \".//{administrativeData}measurementResults/{measurementResults}results[\"+ str(i)+\"]\"\n",
    "    child_element = tree.find(path)  # Replace with your desired child element\n",
    "    child_element.remove(hybrid_element)\n",
    "    node = root.find(path)\n",
    "\n",
    "\n",
    "    for item in item_array:\n",
    "        new_element = ET.Element('{measurementResults}value')\n",
    "        new_element.text = item\n",
    "\n",
    "        item_node = root.find(path)\n",
    "        item_node.append(new_element)\n",
    "        \n",
    "# Create an ElementTree object with the root element\n",
    "tree = ET.ElementTree(root)\n",
    "\n",
    "# Set namespace for the root element//registers a namespace prefix\n",
    "ET.register_namespace('dcc', nsdcc['dcc'])\n",
    "ET.register_namespace('si', nssi['si'])\n",
    "\n",
    "# Write the XML tree to a file\n",
    "tree.write('demo-modify-2.xml', encoding='utf-8', xml_declaration=True)"
   ]
  },
  {
   "cell_type": "code",
   "execution_count": 20,
   "metadata": {},
   "outputs": [
    {
     "name": "stdout",
     "output_type": "stream",
     "text": [
      "<!DOCTYPE html PUBLIC \"-//W3C//DTD XHTML 1.0 Strict//EN\" \"http://www.w3.org/TR/xhtml1/DTD/xhtml1-strict.dtd\">\n",
      "<html xmlns:dcc=\"administrativeData\" xmlns:si=\"measurementResults\"><link href=\"https://fonts.googleapis.com/css?family=Sarabun\" rel=\"stylesheet\"></html>\n",
      "\n"
     ]
    }
   ],
   "source": [
    "#5 Preview to pdf\n",
    "import lxml.html\n",
    "from lxml import etree\n",
    "xslt_doc = etree.parse('survey_meter_template.xslt')\n",
    "xslt_transform = etree.XSLT(xslt_doc)\n",
    "\n",
    "source_doc = etree.parse('demo-modify-2.xml')\n",
    "output_doc = xslt_transform(source_doc)\n",
    "\n",
    "print(str(output_doc))\n",
    "output_doc.write('cert-preview.html', pretty_print = True)"
   ]
  },
  {
   "cell_type": "code",
   "execution_count": null,
   "metadata": {},
   "outputs": [],
   "source": []
  }
 ],
 "metadata": {
  "kernelspec": {
   "display_name": "Python 3",
   "language": "python",
   "name": "python3"
  },
  "language_info": {
   "codemirror_mode": {
    "name": "ipython",
    "version": 3
   },
   "file_extension": ".py",
   "mimetype": "text/x-python",
   "name": "python",
   "nbconvert_exporter": "python",
   "pygments_lexer": "ipython3",
   "version": "3.10.9"
  },
  "orig_nbformat": 4
 },
 "nbformat": 4,
 "nbformat_minor": 2
}
